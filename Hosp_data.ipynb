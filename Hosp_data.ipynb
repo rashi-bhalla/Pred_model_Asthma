{
 "cells": [
  {
   "cell_type": "markdown",
   "metadata": {},
   "source": [
    "### Importing packages"
   ]
  },
  {
   "cell_type": "code",
   "execution_count": null,
   "metadata": {},
   "outputs": [],
   "source": [
    "import pandas as pd\n",
    "import numpy as np\n",
    "import seaborn as sns\n",
    "import matplotlib.pyplot as plt\n",
    "from scipy.stats import pearsonr,spearmanr\n",
    "import scipy\n",
    "import seaborn as sns\n",
    "import sklearn\n",
    "from statsmodels.graphics.tsaplots import plot_acf\n",
    "from statsmodels.tsa.stattools import ccf\n",
    "from statsmodels.graphics.tsaplots import plot_pacf\n",
    "import matplotlib.pyplot as plt\n",
    "from sklearn.metrics import r2_score \n",
    "from sklearn import linear_model\n",
    "from scipy import stats\n",
    "from sklearn.preprocessing import LabelEncoder\n",
    "import statistics\n",
    "import os\n",
    "from numpy import percentile"
   ]
  },
  {
   "cell_type": "markdown",
   "metadata": {},
   "source": [
    "## Reading Hospital data"
   ]
  },
  {
   "cell_type": "code",
   "execution_count": null,
   "metadata": {},
   "outputs": [],
   "source": [
    "dataset_dir = './data'"
   ]
  },
  {
   "cell_type": "code",
   "execution_count": null,
   "metadata": {},
   "outputs": [],
   "source": [
    "df = pd.read_csv(os.path.join(dataset_dir, 'hosp_data.csv'))"
   ]
  },
  {
   "cell_type": "code",
   "execution_count": null,
   "metadata": {},
   "outputs": [],
   "source": [
    "df"
   ]
  },
  {
   "cell_type": "code",
   "execution_count": null,
   "metadata": {},
   "outputs": [],
   "source": [
    "#df = pd.read_csv(\"H:/asthma/data/hosp_data.csv\")\n"
   ]
  },
  {
   "cell_type": "code",
   "execution_count": null,
   "metadata": {},
   "outputs": [],
   "source": [
    "df.columns"
   ]
  },
  {
   "cell_type": "code",
   "execution_count": null,
   "metadata": {},
   "outputs": [],
   "source": [
    "df['Admit Date'] = pd.to_datetime(df['Admit Date']) "
   ]
  },
  {
   "cell_type": "code",
   "execution_count": null,
   "metadata": {},
   "outputs": [],
   "source": [
    "df = pd.DataFrame(df.loc[(df['Admit Date'] >= '2018-01-01') & (df['Admit Date'] <= '2021-01-01')])"
   ]
  },
  {
   "cell_type": "code",
   "execution_count": null,
   "metadata": {},
   "outputs": [],
   "source": [
    "df = df.sort_values(by='Admit Date').reset_index(drop = True)"
   ]
  },
  {
   "cell_type": "code",
   "execution_count": null,
   "metadata": {},
   "outputs": [],
   "source": [
    "df"
   ]
  },
  {
   "cell_type": "code",
   "execution_count": null,
   "metadata": {},
   "outputs": [],
   "source": [
    "#df = df[df['DHB Desc'] == 'Auckland']"
   ]
  },
  {
   "cell_type": "code",
   "execution_count": null,
   "metadata": {},
   "outputs": [],
   "source": [
    "df_sub = df[df['DHB Desc'] == 'Auckland']"
   ]
  },
  {
   "cell_type": "code",
   "execution_count": null,
   "metadata": {},
   "outputs": [],
   "source": [
    "df_sub"
   ]
  },
  {
   "cell_type": "code",
   "execution_count": null,
   "metadata": {},
   "outputs": [],
   "source": [
    "df_sub = pd.DataFrame(df_sub.groupby(['Admit Date']).size().reset_index(name = \"Daily counts\")).sort_values(by='Admit Date')"
   ]
  },
  {
   "cell_type": "code",
   "execution_count": null,
   "metadata": {},
   "outputs": [],
   "source": [
    "df_sub"
   ]
  },
  {
   "cell_type": "code",
   "execution_count": null,
   "metadata": {},
   "outputs": [],
   "source": [
    "df_sub_y1 = pd.DataFrame(df_sub.loc[(df_sub['Admit Date'] >= '2018-01-01') & (df_sub['Admit Date'] < '2019-01-01')]).sort_values(by = \"Admit Date\").reset_index(drop=True)\n",
    "df_sub_y2 = pd.DataFrame(df_sub.loc[(df_sub['Admit Date'] >= '2019-01-01') & (df_sub['Admit Date'] < '2020-01-01')]).sort_values(by = \"Admit Date\").reset_index(drop=True)\n",
    "df_sub_y3 = pd.DataFrame(df_sub.loc[(df_sub['Admit Date'] >= '2020-01-01') & (df_sub['Admit Date'] < '2021-01-01')]).sort_values(by = \"Admit Date\").reset_index(drop=True)\n"
   ]
  },
  {
   "cell_type": "code",
   "execution_count": null,
   "metadata": {},
   "outputs": [],
   "source": [
    "df_sub_y1.describe()"
   ]
  },
  {
   "cell_type": "code",
   "execution_count": null,
   "metadata": {},
   "outputs": [],
   "source": [
    "#df_sub_y3.to_csv('H:/asthma/data/count_chk.csv', index = False)"
   ]
  },
  {
   "cell_type": "code",
   "execution_count": null,
   "metadata": {},
   "outputs": [],
   "source": [
    "df"
   ]
  },
  {
   "cell_type": "code",
   "execution_count": null,
   "metadata": {},
   "outputs": [],
   "source": [
    "#df = df[df[\"Admit CBU Desc\"].str.contains(\"Gen Medicine|CFU|CED|Critical Care|Emergency|Respiratory\")]"
   ]
  },
  {
   "cell_type": "code",
   "execution_count": null,
   "metadata": {},
   "outputs": [],
   "source": [
    "#df.to_csv('H:/asthma/data/chking.csv', index = False)"
   ]
  },
  {
   "cell_type": "code",
   "execution_count": null,
   "metadata": {},
   "outputs": [],
   "source": [
    "df = pd.DataFrame(df.groupby(['Admit Date']).size().reset_index(name = \"Daily counts\")).sort_values(by='Admit Date')"
   ]
  },
  {
   "cell_type": "code",
   "execution_count": null,
   "metadata": {},
   "outputs": [],
   "source": [
    "#df.to_csv('H:/asthma/data/hosp_chk.csv', index = False)"
   ]
  },
  {
   "cell_type": "code",
   "execution_count": null,
   "metadata": {},
   "outputs": [],
   "source": [
    "idx = pd.date_range(start = '2018-01-01', end = '2021-01-01' ).difference(df['Admit Date'])"
   ]
  },
  {
   "cell_type": "code",
   "execution_count": null,
   "metadata": {},
   "outputs": [],
   "source": [
    "idx"
   ]
  },
  {
   "cell_type": "code",
   "execution_count": null,
   "metadata": {},
   "outputs": [],
   "source": [
    "df1 = pd.DataFrame(df.set_index('Admit Date').reindex(idx, fill_value = 0).rename_axis('Admit Date').reset_index())"
   ]
  },
  {
   "cell_type": "code",
   "execution_count": null,
   "metadata": {},
   "outputs": [],
   "source": [
    "df"
   ]
  },
  {
   "cell_type": "code",
   "execution_count": null,
   "metadata": {},
   "outputs": [],
   "source": [
    "df1"
   ]
  },
  {
   "cell_type": "code",
   "execution_count": null,
   "metadata": {},
   "outputs": [],
   "source": [
    "df_hosp = pd.concat([df, df1], ignore_index = True).sort_values(by='Admit Date').reset_index(drop = True)"
   ]
  },
  {
   "cell_type": "code",
   "execution_count": null,
   "metadata": {},
   "outputs": [],
   "source": [
    "df_hosp"
   ]
  },
  {
   "cell_type": "code",
   "execution_count": null,
   "metadata": {},
   "outputs": [],
   "source": [
    "df_month = df_hosp[['Admit Date', 'Daily counts']].groupby(df_hosp['Admit Date'].dt.to_period(\"M\")).sum()\n"
   ]
  },
  {
   "cell_type": "code",
   "execution_count": null,
   "metadata": {},
   "outputs": [],
   "source": [
    "df_month"
   ]
  },
  {
   "cell_type": "code",
   "execution_count": null,
   "metadata": {},
   "outputs": [],
   "source": [
    "df_month['date'] = df_month.index"
   ]
  },
  {
   "cell_type": "code",
   "execution_count": null,
   "metadata": {},
   "outputs": [],
   "source": [
    "#df_month.to_csv('H:/asthma/data/hosp_chk1.csv', index = False)"
   ]
  },
  {
   "cell_type": "code",
   "execution_count": null,
   "metadata": {},
   "outputs": [],
   "source": [
    "print(\"Mean of the sample is % s \" %(statistics.mean(df_hosp['Daily counts']))) "
   ]
  },
  {
   "cell_type": "code",
   "execution_count": null,
   "metadata": {},
   "outputs": [],
   "source": [
    "print(\"var of the sample is % s \" %(statistics.variance(df_hosp['Daily counts']))) "
   ]
  },
  {
   "cell_type": "code",
   "execution_count": null,
   "metadata": {},
   "outputs": [],
   "source": [
    "print(\"Stdev of the sample is % s \" %(statistics.stdev(df_hosp['Daily counts']))) "
   ]
  },
  {
   "cell_type": "code",
   "execution_count": null,
   "metadata": {},
   "outputs": [],
   "source": [
    "#sns.distplot(df_hosp['Daily counts'], hist=True, kde=True, \n",
    "          #   bins=int(180/5), color = 'darkblue', \n",
    "           #  hist_kws={'edgecolor':'black'},\n",
    "            # kde_kws={'linewidth': 4})"
   ]
  },
  {
   "cell_type": "code",
   "execution_count": null,
   "metadata": {},
   "outputs": [],
   "source": [
    "sns.displot(df_hosp, x=\"Daily counts\" ,kind= \"kde\")"
   ]
  },
  {
   "cell_type": "code",
   "execution_count": null,
   "metadata": {},
   "outputs": [],
   "source": [
    "sns.boxplot(df_hosp['Daily counts'])"
   ]
  },
  {
   "cell_type": "markdown",
   "metadata": {},
   "source": [
    "## Removing outliers"
   ]
  },
  {
   "cell_type": "code",
   "execution_count": null,
   "metadata": {},
   "outputs": [],
   "source": [
    "q25, q75 = percentile(df_hosp['Daily counts'], 25), percentile(df_hosp['Daily counts'], 75)\n",
    "iqr = q75 - q25\n",
    "print('Percentiles: 25th=%.3f, 75th=%.3f, IQR=%.3f' % (q25, q75, iqr))\n",
    "# calculate the outlier cutoff\n",
    "cut_off = iqr * 2\n",
    "lower, upper = q25 - cut_off, q75 + cut_off\n",
    "# identify outliers\n",
    "outliers = [x for x in df_hosp['Daily counts'] if x < lower or x > upper]\n",
    "print('Identified outliers: %d' % len(outliers))\n",
    "# remove outliers\n",
    "outliers_removed = [x for x in df_hosp['Daily counts'] if x >= lower and x <= upper]\n",
    "print('Non-outlier observations: %d' % len(outliers_removed))"
   ]
  },
  {
   "cell_type": "code",
   "execution_count": null,
   "metadata": {},
   "outputs": [],
   "source": [
    "upper"
   ]
  },
  {
   "cell_type": "code",
   "execution_count": null,
   "metadata": {},
   "outputs": [],
   "source": [
    "#df_hosp[df_hosp['Daily counts'] > upper]\n",
    "#df_hosp[df_hosp['Daily counts'] < lower]"
   ]
  },
  {
   "cell_type": "code",
   "execution_count": null,
   "metadata": {},
   "outputs": [],
   "source": [
    "#new_df = df_hosp[df_hosp['Daily counts'] <= upper]"
   ]
  },
  {
   "cell_type": "code",
   "execution_count": null,
   "metadata": {},
   "outputs": [],
   "source": [
    "#sns.boxplot(new_df['Daily counts'])"
   ]
  },
  {
   "cell_type": "code",
   "execution_count": null,
   "metadata": {},
   "outputs": [],
   "source": [
    "new_df_cap = df_hosp.copy()\n",
    "new_df_cap['Daily counts'] = np.where(\n",
    "    new_df_cap['Daily counts'] > upper,\n",
    "    upper,\n",
    "    np.where(\n",
    "        new_df_cap['Daily counts'] < lower,\n",
    "        lower,\n",
    "        new_df_cap['Daily counts']\n",
    "    )\n",
    ")"
   ]
  },
  {
   "cell_type": "code",
   "execution_count": null,
   "metadata": {},
   "outputs": [],
   "source": [
    "new_df_cap"
   ]
  },
  {
   "cell_type": "code",
   "execution_count": null,
   "metadata": {},
   "outputs": [],
   "source": [
    "#new_df_cap.to_csv('H:/asthma/data/hosp_chk2.csv', index = False)"
   ]
  },
  {
   "cell_type": "code",
   "execution_count": null,
   "metadata": {},
   "outputs": [],
   "source": [
    "sns.boxplot(new_df_cap['Daily counts'])"
   ]
  },
  {
   "cell_type": "code",
   "execution_count": null,
   "metadata": {},
   "outputs": [],
   "source": [
    "new_df_cap['scaled data'] = stats.zscore(new_df_cap['Daily counts'])"
   ]
  },
  {
   "cell_type": "code",
   "execution_count": null,
   "metadata": {},
   "outputs": [],
   "source": [
    "new_df_cap"
   ]
  },
  {
   "cell_type": "code",
   "execution_count": null,
   "metadata": {},
   "outputs": [],
   "source": [
    "per = np.percentile(new_df_cap ['scaled data'], 70)"
   ]
  },
  {
   "cell_type": "code",
   "execution_count": null,
   "metadata": {},
   "outputs": [],
   "source": [
    "per"
   ]
  },
  {
   "cell_type": "markdown",
   "metadata": {},
   "source": [
    "## Dividing into classes"
   ]
  },
  {
   "cell_type": "code",
   "execution_count": null,
   "metadata": {},
   "outputs": [],
   "source": [
    "df_hosp_new = pd.DataFrame(new_df_cap.assign(status=pd.cut(new_df_cap['scaled data'], \n",
    "                                bins = [-4, 0.6260291810456466, 4],\n",
    "                             # bins=[-3, 0.3381293922380649 , 0.9290142083036281, 3], \n",
    "                              #  bins = [-1, 6, 8, 55],               \n",
    "                              # labels=['Low','Medium', 'High']\n",
    "                                labels = ['Low', 'High']                            \n",
    "                                                          \n",
    "                                                          ))\n",
    "                      )"
   ]
  },
  {
   "cell_type": "code",
   "execution_count": null,
   "metadata": {},
   "outputs": [],
   "source": [
    "df_hosp_new"
   ]
  },
  {
   "cell_type": "code",
   "execution_count": null,
   "metadata": {},
   "outputs": [],
   "source": [
    "df_hosp_new[\"status\"].replace({\"High\": 1, \"Low\": 0}, inplace=True)"
   ]
  },
  {
   "cell_type": "code",
   "execution_count": null,
   "metadata": {},
   "outputs": [],
   "source": [
    "df_hosp_new"
   ]
  },
  {
   "cell_type": "code",
   "execution_count": null,
   "metadata": {},
   "outputs": [],
   "source": [
    "df_hosp"
   ]
  },
  {
   "cell_type": "code",
   "execution_count": null,
   "metadata": {},
   "outputs": [],
   "source": [
    "#df_hosp_new.loc[df_hosp_new['status'] == 0]"
   ]
  },
  {
   "cell_type": "code",
   "execution_count": null,
   "metadata": {},
   "outputs": [],
   "source": [
    "chk = df_hosp"
   ]
  },
  {
   "cell_type": "code",
   "execution_count": null,
   "metadata": {},
   "outputs": [],
   "source": [
    "chk.set_index('Admit Date', inplace = True)"
   ]
  },
  {
   "cell_type": "code",
   "execution_count": null,
   "metadata": {},
   "outputs": [],
   "source": [
    "chk\n"
   ]
  },
  {
   "cell_type": "code",
   "execution_count": null,
   "metadata": {},
   "outputs": [],
   "source": [
    "a = chk[['Daily counts']].diff()"
   ]
  },
  {
   "cell_type": "code",
   "execution_count": null,
   "metadata": {},
   "outputs": [],
   "source": [
    "a"
   ]
  },
  {
   "cell_type": "code",
   "execution_count": null,
   "metadata": {},
   "outputs": [],
   "source": [
    "df_hosp"
   ]
  },
  {
   "cell_type": "code",
   "execution_count": null,
   "metadata": {},
   "outputs": [],
   "source": [
    "df_month"
   ]
  },
  {
   "cell_type": "code",
   "execution_count": null,
   "metadata": {},
   "outputs": [],
   "source": [
    "chk[['Daily counts']].plot(figsize = (20, 10), linewidth = 5, fontsize = 20)\n",
    "plt.xlabel('Admit Date', fontsize= 20);"
   ]
  },
  {
   "cell_type": "code",
   "execution_count": null,
   "metadata": {},
   "outputs": [],
   "source": [
    "chk[['Daily counts']].rolling(15).mean().plot(figsize = (20, 10), linewidth = 5, fontsize = 20)\n",
    "plt.xlabel('Admit Date', fontsize= 20);"
   ]
  },
  {
   "cell_type": "code",
   "execution_count": null,
   "metadata": {},
   "outputs": [],
   "source": [
    "#df_hosp_new.to_csv('H:/asthma/data/hosp_withoutcbu_auck.csv', index = False)\n",
    "df_hosp_new.to_csv((os.path.join(dataset_dir, 'hosp_withoutcbu_auck.csv')), index = False)"
   ]
  },
  {
   "cell_type": "code",
   "execution_count": null,
   "metadata": {},
   "outputs": [],
   "source": [
    "#df_y1 = pd.DataFrame(df_hosp.loc[(df_hosp['Admit Date'] >= '2018-01-01') & (df_hosp['Admit Date'] <= '2019-01-01')]).sort_values(by = \"Admit Date\").reset_index(drop=True)\n",
    "#df_y2 = pd.DataFrame(df_hosp.loc[(df_hosp['Admit Date'] >= '2019-01-01') & (df_hosp['Admit Date'] <= '2020-01-01')]).sort_values(by = \"Admit Date\").reset_index(drop=True)\n",
    "#df_y3 = pd.DataFrame(df_hosp.loc[(df_hosp['Admit Date'] >= '2020-01-01') & (df_hosp['Admit Date'] <= '2021-01-01')]).sort_values(by = \"Admit Date\").reset_index(drop=True)\n"
   ]
  },
  {
   "cell_type": "code",
   "execution_count": null,
   "metadata": {},
   "outputs": [],
   "source": [
    "#df_y2"
   ]
  },
  {
   "cell_type": "code",
   "execution_count": null,
   "metadata": {},
   "outputs": [],
   "source": [
    "#fig, axs = plt.subplots(3, sharex=False, sharey=False, figsize=(10,10))\n",
    "#fig.suptitle('Daily counts of patients')\n",
    "#axs[0].plot(df_y1['Admit Date'], df_y1['Daily counts'])\n",
    "#axs[0].set_title('Daily counts of patients')\n",
    "#axs[1].plot(df_y2['Admit Date'], df_y2['Daily counts'])\n",
    "#axs[2].plot(df_y3['Admit Date'], df_y3['Daily counts'])\n",
    "#plt.xlabel(\"Time Period\")\n",
    "#plt.ylabel(\"Counts\")"
   ]
  },
  {
   "cell_type": "code",
   "execution_count": null,
   "metadata": {},
   "outputs": [],
   "source": [
    "#plt.figure(3)\n",
    "#plt.subplot(311)\n",
    "#plt.plot(df_y1['Admit Date'], df_y1['Daily counts'])\n",
    "#plt.ylabel('Daily counts')\n",
    "#plt.subplot(312)\n",
    "#plt.plot(df_y2['Admit Date'], df_y2['Daily counts'])\n",
    "#plt.ylabel('Daily counts')\n",
    "#plt.subplot(213)\n",
    "#plt.plot(df_y3['Admit Date'], df_y3['Daily counts'])\n",
    "#plt.ylabel('Daily counts')\n",
    "#plt.show()"
   ]
  },
  {
   "cell_type": "code",
   "execution_count": null,
   "metadata": {},
   "outputs": [],
   "source": [
    "df_plot= pd.DataFrame(df_hosp_new[['Admit Date','Daily counts']])"
   ]
  },
  {
   "cell_type": "code",
   "execution_count": null,
   "metadata": {},
   "outputs": [],
   "source": [
    "df_plot"
   ]
  },
  {
   "cell_type": "code",
   "execution_count": null,
   "metadata": {},
   "outputs": [],
   "source": [
    "df_plot = df_plot.rename(columns={'Admit Date': 'Date', 'Daily counts': 'counts'})"
   ]
  },
  {
   "cell_type": "code",
   "execution_count": null,
   "metadata": {},
   "outputs": [],
   "source": [
    "df_plot"
   ]
  },
  {
   "cell_type": "code",
   "execution_count": null,
   "metadata": {},
   "outputs": [],
   "source": [
    "#mask = (df_plot['Date'] >= '2020-01-01') & (df_plot['Date'] <= '2021-01-01')\n",
    "#df_plot = df_plot.loc[mask]\n",
    "#set Date as index\n",
    "#commenting\n",
    "#df_plot.set_index('Date', inplace=True)"
   ]
  },
  {
   "cell_type": "code",
   "execution_count": null,
   "metadata": {},
   "outputs": [],
   "source": [
    "df_plot"
   ]
  },
  {
   "cell_type": "code",
   "execution_count": null,
   "metadata": {},
   "outputs": [],
   "source": [
    "df_plot.info()"
   ]
  },
  {
   "cell_type": "code",
   "execution_count": null,
   "metadata": {},
   "outputs": [],
   "source": [
    "plt.figure(figsize=(20, 10), dpi=150)\n",
    "plt.plot(df_plot.Date, df_plot.counts, color='tab:blue')\n",
    "plt.gca().set(title='Daily counts of asthma-related ED visits/hospitalizations from 2018 to 2021', \n",
    "xlabel='Date', ylabel='Number of patients')\n",
    "plt.show()"
   ]
  },
  {
   "cell_type": "code",
   "execution_count": null,
   "metadata": {},
   "outputs": [],
   "source": [
    "import itertools\n",
    "\n",
    "p = d = q = range(0, 3)\n",
    "#generate patterns from p,q,r\n",
    "pdq = list(itertools.product(p, d, q))\n"
   ]
  },
  {
   "cell_type": "code",
   "execution_count": null,
   "metadata": {},
   "outputs": [],
   "source": [
    "pdq"
   ]
  },
  {
   "cell_type": "code",
   "execution_count": null,
   "metadata": {},
   "outputs": [],
   "source": [
    "import warnings\n",
    "import statsmodels\n",
    "from statsmodels.tsa.arima.model import ARIMA\n",
    "warnings.filterwarnings(\"ignore\")\n",
    "for param in pdq:\n",
    "        mod = ARIMA(\n",
    "            df_plot['counts'],\n",
    "            order=param,\n",
    "            enforce_stationarity=False,\n",
    "            enforce_invertibility=False)\n",
    "        results = mod.fit()\n",
    "        print('ARIMA{} - AIC:{}'.format(param, results.aic))"
   ]
  },
  {
   "cell_type": "code",
   "execution_count": null,
   "metadata": {},
   "outputs": [],
   "source": [
    "df_plot['mean'] = df_plot['counts'].rolling(window=7,  min_periods=1).mean()\n",
    "df_plot['mean'].plot(figsize=(20, 10), linewidth=2, y='Number of patients',\n",
    "color='tab:blue', title='Daily counts of asthma-related ED visits/hospitalizations from 2018 to 2021')"
   ]
  },
  {
   "cell_type": "code",
   "execution_count": null,
   "metadata": {},
   "outputs": [],
   "source": [
    "df_plot"
   ]
  },
  {
   "cell_type": "code",
   "execution_count": null,
   "metadata": {},
   "outputs": [],
   "source": [
    "z = df_plot[[\"Date\",\"counts\", \"mean\"]]"
   ]
  },
  {
   "cell_type": "code",
   "execution_count": null,
   "metadata": {},
   "outputs": [],
   "source": [
    "z.rename(columns = {'mean':'Mean_value'}, inplace = True)"
   ]
  },
  {
   "cell_type": "code",
   "execution_count": null,
   "metadata": {},
   "outputs": [],
   "source": [
    "z"
   ]
  },
  {
   "cell_type": "code",
   "execution_count": null,
   "metadata": {},
   "outputs": [],
   "source": [
    "actual_vals = z.counts.values\n"
   ]
  },
  {
   "cell_type": "code",
   "execution_count": null,
   "metadata": {},
   "outputs": [],
   "source": [
    "train, test = actual_vals[0:548], actual_vals[548:]"
   ]
  },
  {
   "cell_type": "code",
   "execution_count": null,
   "metadata": {},
   "outputs": [],
   "source": [
    "df_month"
   ]
  },
  {
   "cell_type": "markdown",
   "metadata": {},
   "source": [
    "## Monthly analyzing"
   ]
  },
  {
   "cell_type": "code",
   "execution_count": null,
   "metadata": {},
   "outputs": [],
   "source": [
    "df_month.drop(df_month.tail(1).index,inplace=True)"
   ]
  },
  {
   "cell_type": "code",
   "execution_count": null,
   "metadata": {},
   "outputs": [],
   "source": [
    "w = df_month\n",
    "actual_vals = w['Daily counts'].values.astype('float32')\n",
    "train, test = actual_vals[0:18], actual_vals[18:]"
   ]
  },
  {
   "cell_type": "code",
   "execution_count": null,
   "metadata": {},
   "outputs": [],
   "source": [
    "test"
   ]
  },
  {
   "cell_type": "code",
   "execution_count": null,
   "metadata": {},
   "outputs": [],
   "source": [
    "my_order = (0, 1, 0) #(2,2,0)\n",
    "my_seasonal_order = (0, 1, 1, 12)"
   ]
  },
  {
   "cell_type": "code",
   "execution_count": null,
   "metadata": {},
   "outputs": [],
   "source": [
    "history = [x for x in train]\n",
    "predictions = list()"
   ]
  },
  {
   "cell_type": "code",
   "execution_count": null,
   "metadata": {},
   "outputs": [],
   "source": [
    "import statsmodels.api as sm\n",
    "from statsmodels.tsa.arima_model import ARIMA\n",
    "for t in range(len(test)):\n",
    "     model = ARIMA(\n",
    "                history,\n",
    "                order=my_order)\n",
    "     model_fit = model.fit()\n",
    "     output = model_fit.forecast()\n",
    "     #predict_log.append(output[0]) \n",
    "     #yhat = 10**output[0]\n",
    "     predictions.append(int(output[0][0]))\n",
    "     obs = test[t]\n",
    "     history.append(obs)"
   ]
  },
  {
   "cell_type": "code",
   "execution_count": null,
   "metadata": {},
   "outputs": [],
   "source": [
    "output[0][0]"
   ]
  },
  {
   "cell_type": "code",
   "execution_count": null,
   "metadata": {},
   "outputs": [],
   "source": [
    "#import statsmodels.api as sm\n",
    "#from statsmodels.tsa.arima_model import ARIMA\n",
    "#for t in range(len(test)):\n",
    "    # model = sm.tsa.SARIMAX(\n",
    "     #           history,\n",
    "      #          order=my_order, seasonal_order= my_seasonal_order,\n",
    "       #         enforce_stationarity=False,\n",
    "        #        enforce_invertibility=False)\n",
    "   #  model_fit = model.fit()\n",
    "   #  output = model_fit.forecast()\n",
    "     #predict_log.append(output[0]) \n",
    "     #yhat = 10**output[0]\n",
    "    # predictions.append(output)\n",
    "    # obs = test[t]\n",
    "     #history.append(obs)\n"
   ]
  },
  {
   "cell_type": "code",
   "execution_count": null,
   "metadata": {},
   "outputs": [],
   "source": [
    "predictions"
   ]
  },
  {
   "cell_type": "code",
   "execution_count": null,
   "metadata": {},
   "outputs": [],
   "source": [
    "predicted_df = pd.DataFrame()\n",
    "predicted_df[\"eventDate\"] = w.index[18:]\n",
    "predicted_df[\"actual\"] = test\n",
    "predicted_df[\"Predicted\"] = predictions"
   ]
  },
  {
   "cell_type": "code",
   "execution_count": null,
   "metadata": {},
   "outputs": [],
   "source": [
    "predicted_df"
   ]
  },
  {
   "cell_type": "code",
   "execution_count": null,
   "metadata": {},
   "outputs": [],
   "source": [
    "\n",
    "df_month['date'] = (df_month['date']).apply(lambda d: pd.to_datetime(str(d)))"
   ]
  },
  {
   "cell_type": "code",
   "execution_count": null,
   "metadata": {},
   "outputs": [],
   "source": [
    "df_month"
   ]
  },
  {
   "cell_type": "code",
   "execution_count": null,
   "metadata": {},
   "outputs": [],
   "source": [
    "predicted_df"
   ]
  },
  {
   "cell_type": "code",
   "execution_count": null,
   "metadata": {},
   "outputs": [],
   "source": [
    "df_month[['Daily counts']].plot(figsize = (20,8), linewidth = 5, fontsize = 15)\n",
    "plt.xlabel('Admit Date', fontsize= 15);"
   ]
  },
  {
   "cell_type": "code",
   "execution_count": null,
   "metadata": {},
   "outputs": [],
   "source": [
    "predicted_df['date'] = (predicted_df['eventDate']).apply(lambda d: pd.to_datetime(str(d)))"
   ]
  },
  {
   "cell_type": "code",
   "execution_count": null,
   "metadata": {},
   "outputs": [],
   "source": [
    "predicted_df.info()"
   ]
  },
  {
   "cell_type": "code",
   "execution_count": null,
   "metadata": {},
   "outputs": [],
   "source": [
    "plt.figure(figsize=(12,5), dpi=100)\n",
    "#plt.plot(df_month['date'], df_month['Daily counts'], label='Actual')\n",
    "#plt.plot(test, label='actual')\n",
    "\n",
    "plt.plot(predicted_df['date'],predicted_df[\"actual\"], label='Actual')\n",
    "plt.plot(predicted_df['date'],predicted_df[\"Predicted\"], label='Predicted')\n",
    "#plt.title('Forecast vs Actuals')\n",
    "plt.legend(loc='upper left', fontsize=8)\n",
    "plt.show()"
   ]
  },
  {
   "cell_type": "code",
   "execution_count": null,
   "metadata": {},
   "outputs": [],
   "source": [
    "actual_df = pd.DataFrame()\n",
    "actual_df[\"eventDate\"] = w.index[0:19]\n",
    "actual_df['date'] = (actual_df['eventDate']).apply(lambda d: pd.to_datetime(str(d)))\n",
    "actual_df[\"Train_data\"] = actual_vals[0:19]"
   ]
  },
  {
   "cell_type": "code",
   "execution_count": null,
   "metadata": {},
   "outputs": [],
   "source": [
    "actual_df"
   ]
  },
  {
   "cell_type": "code",
   "execution_count": null,
   "metadata": {},
   "outputs": [],
   "source": [
    "plt.figure(figsize=(12,5), dpi=100)\n",
    "#plt.plot(df_month['date'], df_month['Daily counts'], label='Actual')\n",
    "#plt.plot(test, label='actual')\n",
    "plt.plot(actual_df['date'],actual_df[\"Train_data\"], label='Train')\n",
    "plt.plot(predicted_df['date'],predicted_df[\"actual\"], label='Test')\n",
    "plt.plot(predicted_df['date'],predicted_df[\"Predicted\"], 'm--',label='Predicted')\n",
    "#plt.title('Forecast vs Actuals')\n",
    "plt.legend(loc='upper left', fontsize=8)\n",
    "plt.show()"
   ]
  },
  {
   "cell_type": "code",
   "execution_count": null,
   "metadata": {},
   "outputs": [],
   "source": [
    "#predicted_df = pd.DataFrame()\n",
    "#predicted_df[\"eventDate\"] = z.Date[548:]\n",
    "#predicted_df[\"actual\"] = test\n",
    "#predicted_df[\"Predicted\"] = predictions"
   ]
  },
  {
   "cell_type": "code",
   "execution_count": null,
   "metadata": {},
   "outputs": [],
   "source": [
    "#predicted_df.to_csv('H:/asthma/data/arima.csv', index = False)"
   ]
  },
  {
   "cell_type": "code",
   "execution_count": null,
   "metadata": {},
   "outputs": [],
   "source": [
    "#plt.figure(figsize=(12,5), dpi=100)\n",
    "#plt.plot(z.Date, actual_vals, label='Actual')\n",
    "#plt.plot(test, label='actual')\n",
    "#plt.plot(predicted_df['eventDate'],predicted_df[\"actual\"], label='Actual')\n",
    "#plt.plot(predicted_df['eventDate'],predicted_df[\"actual\"], label='Predicted')\n",
    "#plt.title('Forecast vs Actuals')\n",
    "#plt.legend(loc='upper left', fontsize=8)\n",
    "#plt.show()"
   ]
  },
  {
   "cell_type": "code",
   "execution_count": null,
   "metadata": {},
   "outputs": [],
   "source": [
    "#plt.figure(figsize=(12,5), dpi=100)\n",
    "#plt.plot(z.Date, actual_vals, label='Actual')\n",
    "#plt.plot(test, label='actual')\n",
    "#plt.plot(predicted_df['eventDate'],predicted_df[\"actual\"], label='Actual')\n",
    "#plt.plot(predicted_df['eventDate'],predicted_df[\"Predicted\"], label='Predicted')\n",
    "#plt.title('Forecast vs Actuals')\n",
    "#plt.legend(loc='upper left', fontsize=8)\n",
    "#plt.show()"
   ]
  },
  {
   "cell_type": "code",
   "execution_count": null,
   "metadata": {},
   "outputs": [],
   "source": [
    "#actual_vals = z.Mean_value.values"
   ]
  },
  {
   "cell_type": "code",
   "execution_count": null,
   "metadata": {},
   "outputs": [],
   "source": [
    "#train, test = actual_vals[0:548], actual_vals[548:]"
   ]
  },
  {
   "cell_type": "code",
   "execution_count": null,
   "metadata": {},
   "outputs": [],
   "source": [
    "#history = [x for x in train]\n",
    "#predictions = list()"
   ]
  },
  {
   "cell_type": "code",
   "execution_count": null,
   "metadata": {},
   "outputs": [],
   "source": [
    "#import statsmodels.api as sm\n",
    "#for t in range(len(test)):\n",
    "     #model = ARIMA(\n",
    "                #history,\n",
    "                #order=my_order)\n",
    "     #model_fit = model.fit()\n",
    "     #output = model_fit.forecast()\n",
    "     #predict_log.append(output[0]) \n",
    "     #yhat = 10**output[0]\n",
    "     ##predictions.append(output[0][0])\n",
    "     #obs = test[t]\n",
    "     #history.append(obs)"
   ]
  },
  {
   "cell_type": "code",
   "execution_count": null,
   "metadata": {},
   "outputs": [],
   "source": [
    "#predictions"
   ]
  },
  {
   "cell_type": "code",
   "execution_count": null,
   "metadata": {},
   "outputs": [],
   "source": [
    "#predicted_df = pd.DataFrame()\n",
    "#predicted_df[\"eventDate\"] = z.Date[548:]\n",
    "#predicted_df[\"actual\"] = test\n",
    "#predicted_df[\"Predicted\"] = predictions"
   ]
  },
  {
   "cell_type": "code",
   "execution_count": null,
   "metadata": {},
   "outputs": [],
   "source": [
    "#plt.figure(figsize=(12,5), dpi=100)\n",
    "#plt.plot(z.Date, z.Mean_value, label='Actual')\n",
    "#plt.plot(test, label='actual')\n",
    "#plt.plot(predicted_df['eventDate'],predicted_df[\"Predicted\"], label='Predicted')\n",
    "#plt.title('Forecast vs Actuals')\n",
    "#plt.legend(loc='upper left', fontsize=8)\n",
    "#plt.show()"
   ]
  },
  {
   "cell_type": "code",
   "execution_count": null,
   "metadata": {},
   "outputs": [],
   "source": [
    "#mod = ARIMA(\n",
    "            #train,\n",
    "            #order=(0, 1, 0),\n",
    "           \n",
    "#)\n",
    "#results = mod.fit()"
   ]
  },
  {
   "cell_type": "code",
   "execution_count": null,
   "metadata": {},
   "outputs": [],
   "source": [
    "#print(results.summary())"
   ]
  },
  {
   "cell_type": "code",
   "execution_count": null,
   "metadata": {},
   "outputs": [],
   "source": [
    "#df_plot['Forecast']= results.predict(start=pd.to_datetime('2019-07-01'))\n",
    "#df_plot[['counts','Forecast']].plot(figsize=(20,8))\n"
   ]
  },
  {
   "cell_type": "code",
   "execution_count": null,
   "metadata": {},
   "outputs": [],
   "source": [
    "#plt.figure(figsize=(20, 8), dpi=150)\n",
    "#plt.plot(df_plot.index, df_plot['counts'],  label='Actual')\n",
    "#plt.plot(df_plot.index, df_plot['Forecast'], label = 'Predicted')\n",
    "#plt.xlabel('Date')\n",
    "#plt.ylabel('Number of patients')\n",
    "#plt.title('Daily counts of asthma-related ED visits/hospitalizations from 2018 to 2021')\n",
    "#plt.legend()\n",
    "#plt.show()"
   ]
  },
  {
   "cell_type": "code",
   "execution_count": null,
   "metadata": {},
   "outputs": [],
   "source": [
    "#df_plot"
   ]
  },
  {
   "cell_type": "code",
   "execution_count": null,
   "metadata": {},
   "outputs": [],
   "source": [
    "#mod1 = ARIMA(\n",
    "            #df_plot['mean'],\n",
    "            #order=(0, 1, 0),\n",
    "           \n",
    "#)\n",
    "#results1 = mod1.fit()"
   ]
  },
  {
   "cell_type": "code",
   "execution_count": null,
   "metadata": {},
   "outputs": [],
   "source": [
    "#df_plot['Forecasted']= results1.predict(start=pd.to_datetime('2019-07-01'))\n",
    "#df_plot[['mean','Forecasted']].plot(figsize=(20,8))"
   ]
  },
  {
   "cell_type": "code",
   "execution_count": null,
   "metadata": {},
   "outputs": [],
   "source": [
    "#plt.figure(figsize=(20, 8), dpi=150)\n",
    "#plt.plot(df_plot.index, df_plot['mean'],  label='Actual')\n",
    "##plt.plot(df_plot.index, df_plot['Forecasted'], label = 'Predicted')\n",
    "#plt.xlabel('Date')\n",
    "#plt.ylabel('Number of patients')\n",
    "#plt.title('Weekly counts of asthma-related ED visits/hospitalizations from 2018 to 2021')\n",
    "#plt.legend()\n",
    "#plt.show()"
   ]
  }
 ],
 "metadata": {
  "kernelspec": {
   "display_name": "Python 3",
   "language": "python",
   "name": "python3"
  },
  "language_info": {
   "codemirror_mode": {
    "name": "ipython",
    "version": 3
   },
   "file_extension": ".py",
   "mimetype": "text/x-python",
   "name": "python",
   "nbconvert_exporter": "python",
   "pygments_lexer": "ipython3",
   "version": "3.6.5"
  }
 },
 "nbformat": 4,
 "nbformat_minor": 2
}
